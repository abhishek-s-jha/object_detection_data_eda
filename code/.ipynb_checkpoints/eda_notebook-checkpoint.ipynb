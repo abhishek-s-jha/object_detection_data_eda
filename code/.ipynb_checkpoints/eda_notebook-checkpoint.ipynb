{
 "cells": [
  {
   "cell_type": "code",
   "execution_count": null,
   "id": "1a966226",
   "metadata": {},
   "outputs": [],
   "source": [
    "import os\n",
    "import cv2\n",
    "import numpy as np\n",
    "import pandas as pd\n",
    "import matplotlib.pyplot as plt\n",
    "from tqdm import tqdm\n",
    "from pprint import pprint\n",
    "\n",
    "from additional_info import sub_dir, json_reader, json_writer"
   ]
  },
  {
   "cell_type": "code",
   "execution_count": null,
   "id": "cf2f07f7",
   "metadata": {},
   "outputs": [],
   "source": [
    "selected_dataset = \"coco\"\n",
    "\n",
    "# to get limit size of sample output \n",
    "output_line_limit = 10"
   ]
  },
  {
   "cell_type": "markdown",
   "id": "23bca178",
   "metadata": {},
   "source": [
    "# 1. Initializing dataset directory"
   ]
  },
  {
   "cell_type": "code",
   "execution_count": null,
   "id": "a3c9678f",
   "metadata": {},
   "outputs": [],
   "source": [
    "# directory containing image and annotations of coco dataset\n",
    "image_dir = os.path.join(sub_dir['dir_data'], selected_dataset, \"train2017\")\n",
    "annotation_dir = os.path.join(sub_dir['dir_data'], selected_dataset, \"annotations\")\n",
    "\n",
    "print(f\"Image directory = {image_dir}\")\n",
    "print(f\"Annotation directory = {annotation_dir}\")"
   ]
  },
  {
   "cell_type": "markdown",
   "id": "5c8b53fe",
   "metadata": {},
   "source": [
    "# 2. Number of files in image and annotation directory [first look]"
   ]
  },
  {
   "cell_type": "code",
   "execution_count": null,
   "id": "6cb15622",
   "metadata": {},
   "outputs": [],
   "source": [
    "image_dir_files = os.listdir(image_dir)\n",
    "print(f\"Number of images = \", len(image_dir_files))\n",
    "print(f\"Number of annotation files  = \", len(os.listdir(annotation_dir)))\n",
    "\n",
    "print(\"\\nSome files from image folder and their size :: \")\n",
    "for i,file in enumerate(image_dir_files):\n",
    "    file_size = round((os.path.getsize(os.path.join(image_dir, file)))/1024, ndigits=2)\n",
    "    print(\"\\t{}. File name = {} :: size = {} kb\".format(i+1, file, file_size))\n",
    "    \n",
    "    if i > output_line_limit:\n",
    "        print(\"\\t....................................................\\n\"*3)\n",
    "        file_size = round((os.path.getsize(os.path.join(image_dir, image_dir_files[-1])))/1024, ndigits=2)\n",
    "        print(\"\\t{}. File name = {} :: size = {} kb\".format(len(image_dir_files), image_dir_files[-1], file_size))\n",
    "        break\n",
    "        \n",
    "print(\"\\nFiles from annotation folder :: \")\n",
    "for i,file in enumerate(os.listdir(annotation_dir)):\n",
    "    file_size = round((os.path.getsize(os.path.join(annotation_dir, file)))/1024, ndigits=2)\n",
    "    print(\"\\t{}. File name = {} :: size = {} kb\".format(i+1, file, file_size))"
   ]
  },
  {
   "cell_type": "markdown",
   "id": "67c7c07e",
   "metadata": {},
   "source": [
    "### As we have downloaded train images from the coco dataset for EDA, we only require instances_train2017.json file. So, we will be working with these two things from now on:\n",
    "\n",
    "- **image_dir** = contains 118287 images from coco dataset\n",
    "\n",
    "- **annotation** = contains all the information (which we will read below) from the **instances_train2017.json** [largest file present in annotation folder, **448 MB**]"
   ]
  },
  {
   "cell_type": "markdown",
   "id": "8fe24b2b",
   "metadata": {},
   "source": [
    "# 3. Viewing annotation file [\"instances_train2017.json\"]"
   ]
  },
  {
   "cell_type": "code",
   "execution_count": null,
   "id": "9d4f39b1",
   "metadata": {},
   "outputs": [],
   "source": [
    "# reading contents of \"instances_train2017.json\" into annotation\n",
    "annotation = json_reader(os.path.join(annotation_dir,\"instances_train2017.json\"))"
   ]
  },
  {
   "cell_type": "code",
   "execution_count": null,
   "id": "892db19e",
   "metadata": {},
   "outputs": [],
   "source": [
    "# As annotation is a json file i.e. a dictionary structure, lets take a look at keys present in it.\n",
    "print(\"Keys present in annotaion = \", annotation.keys())\n",
    "\n",
    "# Lets see the number of entries in each key and first value of each key, for better understanding.\n",
    "for i,key in enumerate(annotation.keys()):\n",
    "    print(f\"\\n{i+1}. Key = {key}\\n\\t Number of entries :: {len(annotation[key])}\")\n",
    "    if type(annotation[key]) == list:\n",
    "        print(\"\\t First value :: \")\n",
    "        pprint(annotation[key][0],indent=25)\n",
    "    else:\n",
    "        print(\"\\t First value :: \")\n",
    "        pprint(annotation[key],indent=25)"
   ]
  },
  {
   "cell_type": "markdown",
   "id": "91dc8d84",
   "metadata": {},
   "source": [
    "### Annotation consists of five sections of information that provide information for the entire dataset. [source: https://cocodataset.org/#format-data]\n",
    "- **info**     – general information about the dataset.\n",
    "\n",
    "- **licenses** – license information for the images in the dataset.\n",
    "\n",
    "- **images**   – a list of images in the dataset.\n",
    "\n",
    "- **annotations** – a list of annotations (including bounding boxes) that are present in all images in the dataset.\n",
    "\n",
    "- **categories**  – a list of label categories.\n",
    "\n",
    "    ### Structure of images in annotations[\"images\"]\n",
    "    - **id**         – A unique identifier for the image. The id field maps to the id field in the annotations array (where bounding box information is stored).\n",
    "\n",
    "    - **license**    – Maps to the license array.\n",
    "\n",
    "    - **coco_url**   – The location of the image.\n",
    "\n",
    "    - **flickr_url** – The location of the image on Flickr.\n",
    "\n",
    "    - **width**      – The width of the image.\n",
    "\n",
    "    - **height**     – The height of the image.\n",
    "\n",
    "    - **file_name**  – The image file name. In this example, file_name and id match, but this is not a requirement for COCO datasets.\n",
    "\n",
    "    - **date_captured** – the date and time the image was captured.\n",
    "    \n",
    "    ### Structure of annotations in annotations[\"annotations\"]\n",
    "    - **id** – The identifier for the annotation.\n",
    "\n",
    "    - **image_id** –  Corresponds to the image id in the images array.\n",
    "\n",
    "    - **category_id** –  The identifier for the label that identifies the object within a bounding box. It maps to the id field of the categories array.\n",
    "\n",
    "    - **iscrowd** – Specifies if the image contains a crowd of objects.\n",
    "\n",
    "    - **segmentation** – Segmentation information for objects on an image.\n",
    "\n",
    "    - **area** – The area of the annotation.\n",
    "\n",
    "    - **bbox** –  Contains the coordinates, in pixels, of a bounding box around an object on the image. **[top left x, top left y,width,height]**\n",
    "    ### Structure of categories in annotation[\"categories\"]\n",
    "    - **supercategory** – The parent category for a label.\n",
    "\n",
    "    - **id** – The label identifier. The id field maps to the category_id field in an annotation object.\n",
    "\n",
    "    - **name** – the label name."
   ]
  },
  {
   "cell_type": "markdown",
   "id": "4c156740",
   "metadata": {},
   "source": [
    "# 4. Overview of annotations"
   ]
  },
  {
   "cell_type": "code",
   "execution_count": null,
   "id": "f5e685dd",
   "metadata": {},
   "outputs": [],
   "source": [
    "# After first look at the annotation file, we got the following information about the coco dataset\n",
    "print(\"Date created :: \", annotation['info']['date_created'])\n",
    "print(\"Contributor  :: \", annotation['info']['contributor'])\n",
    "print(\"URL          :: \", annotation['info']['url'])\n",
    "print(\"Image count  :: \", len(annotation['images']), end=\"\\t\\t (This is equal to the number of images present in directory\\ \n",
    "      [check section 2])\\n\")\n",
    "print(\"Annotation count :: \", len(annotation['annotations']))\n",
    "print(\"Number of categories (classes) :: \", len(annotation['categories']))\n",
    "\n",
    "\n",
    "\n",
    "# Retrieving name of parent categories and classes from annotation file\n",
    "parent_category = {}\n",
    "classes = {}\n",
    "for annotation_info in tqdm(annotation['categories']):\n",
    "    parent_category[annotation_info['supercategory']] = 1\n",
    "    classes[annotation_info['name']] = 1\n",
    "\n",
    "parent_category = list(parent_category.keys())\n",
    "classes = list(classes.keys())\n",
    "\n",
    "\n",
    "count=1\n",
    "print(\"Name of categories :: \")\n",
    "for index in range(0,len(classes),5):\n",
    "    print(f'\\t{count}. {classes[index]:15}\\t{count+1}. \n",
    "          {classes[index+1]:15}\\t{count+2}. {classes[index+2]:15}\\t{count+3}. \n",
    "          {classes[index+3]:15}\\t{count+4}. {classes[index+4]:15}')\n",
    "    count+=5\n",
    "\n",
    "count=1\n",
    "print(\"\\nNumber of parent categories :: \", len(parent_category))\n",
    "print(\"Name of parent categories :: \")\n",
    "for index in range(0,len(parent_category), 3):\n",
    "    print(f'\\t{count}. {parent_category[index]:5}\\t{count+1}. \n",
    "          {parent_category[index+1]:5}\\t{count+2}. \n",
    "          {parent_category[index+2]:5}')\n",
    "    count+=3\n"
   ]
  },
  {
   "cell_type": "markdown",
   "id": "a18bb4e2",
   "metadata": {},
   "source": [
    "### As we can see, we have 1lakh+ images which have 8.6lakh annotations which is spread over 80 different classes.\n",
    "\n",
    "### It means that an image have multiple annotations (same/different class)."
   ]
  },
  {
   "cell_type": "markdown",
   "id": "036fbd13",
   "metadata": {},
   "source": [
    "# 5. Relation in the | images | annotations | categories | in the annotation file."
   ]
  },
  {
   "cell_type": "markdown",
   "id": "8e9717ed",
   "metadata": {},
   "source": [
    "\n",
    "| images  &nbsp;&nbsp;&nbsp;         | annotations &nbsp;&nbsp;&nbsp;   | categories  |\n",
    "| -----------                       | -----------                      | ----------- |\n",
    "| **id** &nbsp;&nbsp;&nbsp;         | **image_id** &nbsp;&nbsp;&nbsp;  | name        |\n",
    "| license  &nbsp;&nbsp;&nbsp;       |  id &nbsp;&nbsp;&nbsp;           | supercategory       |\n",
    "| coco_url &nbsp;&nbsp;&nbsp;       | ***category_id*** &nbsp;&nbsp;&nbsp;   | ***id***      |\n",
    "| date_captured &nbsp;&nbsp;&nbsp;     | iscrowd  &nbsp;&nbsp;&nbsp;      | -----       |\n",
    "| flickr_url &nbsp;&nbsp;&nbsp;     | segmentation &nbsp;&nbsp;&nbsp;  | -----       |\n",
    "| width  &nbsp;&nbsp;&nbsp;         | area  &nbsp;&nbsp;&nbsp;         | -----       |\n",
    "| height &nbsp;&nbsp;&nbsp;         | bbox &nbsp;&nbsp;&nbsp;          | -----       |\n",
    "| file_name  &nbsp;&nbsp;&nbsp;     | -----  &nbsp;&nbsp;&nbsp;        | -----       |\n",
    "\n",
    "\n",
    "### Here we can see that:\n",
    "- **id** in images is mapped to **image_id** in annotations.\n",
    "- ***id*** in categories is mapped to ***category_id*** in annotations."
   ]
  },
  {
   "cell_type": "markdown",
   "id": "a4e58f07",
   "metadata": {},
   "source": [
    "# 6. Removing data from | images | annotations | to reduce file size."
   ]
  },
  {
   "cell_type": "markdown",
   "id": "e95704b4",
   "metadata": {},
   "source": [
    "### We will drop: \n",
    "   - `license`, `coco_url`, `flickr_url` from **images**\n",
    "   - `iscrowd`, `segmentation` from **annotations**"
   ]
  },
  {
   "cell_type": "code",
   "execution_count": null,
   "id": "7fcee071",
   "metadata": {},
   "outputs": [],
   "source": [
    "for image_info in tqdm(annotation['images']):\n",
    "    image_info.pop('license')\n",
    "    image_info.pop('flickr_url')\n",
    "    image_info.pop('coco_url')\n",
    "\n",
    "for annotation_info in tqdm(annotation['annotations']):\n",
    "    annotation_info.pop('iscrowd')\n",
    "    annotation_info.pop('segmentation')\n",
    "\n",
    "# saving processed annotation file. Will use this file from now onwards.\n",
    "file_loc = os.path.join(annotation_dir, 'processed_instances_train2017.json')\n",
    "json_writer(data=annotation, file_loc=file_loc)\n",
    "file_size = round((os.path.getsize(file_loc))/1024, ndigits=2)\n",
    "print(\"New file size = {} kb\".format(file_size))"
   ]
  },
  {
   "cell_type": "markdown",
   "id": "a935af95",
   "metadata": {},
   "source": [
    "# 7. Stats about image dimension using processed annotation file"
   ]
  },
  {
   "cell_type": "code",
   "execution_count": null,
   "id": "3c4a6474",
   "metadata": {},
   "outputs": [],
   "source": [
    "# dataset_info is used to store file_name, width, height, aspect_ratio and type of each image.\n",
    "dataset_info = []\n",
    "\n",
    "for image_info in tqdm(annotation['images']):\n",
    "    dataset_info.append([image_info['id'], image_info['width'], image_info['height'], \n",
    "                         image_info['width']/image_info['height'] ,image_info['file_name'].split('.')[-1]])\n",
    "    \n",
    "image_dim_df = pd.DataFrame(data=dataset_info, columns=['file_name','width','height','aspect_ratio','type'])\n",
    "del dataset_info\n",
    "\n",
    "print(\"About height of images :: \")\n",
    "print(f\" Max = {image_dim_df['height'].max()} \\n Min = {image_dim_df['height'].min()}\")\n",
    "print(f\" Mean = {image_dim_df['height'].mean()} \\n Median = {image_dim_df['height'].median()} \\n Mode = {image_dim_df['height'].mode()[0]}\")\n",
    "\n",
    "print(\"\\nAbout width of images :: \")\n",
    "print(f\" Max = {image_dim_df['width'].max()} \\n Min = {image_dim_df['width'].min()}\")\n",
    "print(f\" Mean = {image_dim_df['width'].mean()} \\n Median = {image_dim_df['width'].median()} \\n Mode = {image_dim_df['width'].mode()[0]}\")\n",
    "\n",
    "print(\"\\nAbout aspect_ratio of images :: \")\n",
    "print(f\" Max = {image_dim_df['aspect_ratio'].max()} \\n Min = {image_dim_df['aspect_ratio'].min()}\")\n",
    "print(f\" Mean = {image_dim_df['aspect_ratio'].mean()} \\n Median = {image_dim_df['aspect_ratio'].median()} \\n Mode = {image_dim_df['aspect_ratio'].mode()[0]}\")\n",
    "\n",
    "image_dim_df"
   ]
  },
  {
   "cell_type": "code",
   "execution_count": null,
   "id": "8f672ecb",
   "metadata": {},
   "outputs": [],
   "source": [
    "plt.figure()\n",
    "image_dim_df.hist(column='height', bins=25, grid=True, figsize=(12,8), color='#69bf69', rwidth=0.6)\n",
    "plt.xlabel(\"height of images\", fontsize=15)\n",
    "plt.ylabel(\"image count\", fontsize=15)\n",
    "\n",
    "plt.figure()\n",
    "image_dim_df.hist(column='width', bins=25, grid=True, figsize=(12,8), color='#69bf69', rwidth=0.6)\n",
    "plt.xlabel(\"width of images\", fontsize=15)\n",
    "plt.ylabel(\"image count\", fontsize=15)\n",
    "\n",
    "plt.figure()\n",
    "image_dim_df.hist(column='aspect_ratio', bins=25, grid=True, figsize=(12,8), color='#69bf69', rwidth=0.6)\n",
    "plt.xlabel(\"aspect_ratio of images\", fontsize=15)\n",
    "plt.ylabel(\"image count\", fontsize=15)"
   ]
  },
  {
   "cell_type": "markdown",
   "id": "8fe47304",
   "metadata": {},
   "source": [
    "### From above, we can see that majority of images in the dataset are present in the specific range which confirms that there are very less outliers present in this dataset i.e. less extreme values.\n",
    "                     \n",
    "\n",
    "| &nbsp;&nbsp;&nbsp;         | minimum &nbsp;&nbsp;&nbsp;   | maximum &nbsp;&nbsp;&nbsp;   |mean &nbsp;&nbsp;&nbsp;   |median &nbsp;&nbsp;&nbsp;   | mode &nbsp;&nbsp;&nbsp;   |\n",
    "| -----------                       | -----------                      | ----------- | ----------- | ----------- |  ----------- |\n",
    "| **height** &nbsp;&nbsp;&nbsp; | 51 &nbsp;&nbsp;&nbsp;  | 640 &nbsp;&nbsp;&nbsp; |484 &nbsp;&nbsp;&nbsp; |480.0 &nbsp;&nbsp;&nbsp; |480 &nbsp;&nbsp;&nbsp; |\n",
    "| **width** &nbsp;&nbsp;&nbsp; | 59 &nbsp;&nbsp;&nbsp;  | 640 &nbsp;&nbsp;&nbsp; |577.71 &nbsp;&nbsp;&nbsp; |640.0 &nbsp;&nbsp;&nbsp; |640 &nbsp;&nbsp;&nbsp; |\n",
    "| **aspect_ratio** &nbsp;&nbsp;&nbsp; | 0.24375 &nbsp;&nbsp;&nbsp;  | 6.15 &nbsp;&nbsp;&nbsp; |1.25 &nbsp;&nbsp;&nbsp; |1.33 &nbsp;&nbsp;&nbsp; |1.33 &nbsp;&nbsp;&nbsp; |\n",
    "\n"
   ]
  },
  {
   "cell_type": "markdown",
   "id": "adf626aa",
   "metadata": {},
   "source": [
    "# 8. Checking bounding box data using annotation file "
   ]
  },
  {
   "cell_type": "markdown",
   "id": "7dfba9a1",
   "metadata": {},
   "source": [
    "### As we are provided with bounding box data which is present in annotation[\"annotations\"], we will check for following things:\n",
    "   - **height or width** : value for height and width of bbox is present in bbox[x,y,width,height] format. These value should be greater than 0.\n",
    "   - **area** : value for area is provided and it has to be greater than 0.\n",
    "   \n",
    "### If any value like mentioned above is present, we will remove that annotation from the file.\n",
    "##### NOTE - original count of annotations is present in section 4."
   ]
  },
  {
   "cell_type": "code",
   "execution_count": null,
   "id": "0069ac99",
   "metadata": {},
   "outputs": [],
   "source": [
    "print(\"Annotation count before check:: \", len(annotation['annotations']))\n",
    "\n",
    "for annotation_info in tqdm(annotation['annotations']):\n",
    "    bbox_width = annotation_info['bbox'][2]\n",
    "    bbox_height = annotation_info['bbox'][3]\n",
    "    area = annotation_info['area']\n",
    "    \n",
    "    if bbox_height==0 or bbox_width==0 or area==0:\n",
    "        print(\"This entry will be removed :: \")\n",
    "        pprint(annotation_info)\n",
    "        annotation['annotations'].pop(annotation['annotations'].index(annotation_info))\n",
    "\n",
    "\n",
    "print(\"Annotation count after check:: \", len(annotation['annotations']))        \n"
   ]
  },
  {
   "cell_type": "markdown",
   "id": "73e5a3bb",
   "metadata": {},
   "source": [
    "# 9. Stats about bounding box dimension using processed annotation file"
   ]
  },
  {
   "cell_type": "code",
   "execution_count": null,
   "id": "44984a21",
   "metadata": {},
   "outputs": [],
   "source": [
    "# dataset_info is used to store id, bbox_width, bbox_height, aspect_ratio, area and class.\n",
    "dataset_info = []\n",
    "\n",
    "for annotation_info in tqdm(annotation['annotations']):\n",
    "    bbox_width = annotation_info['bbox'][2]\n",
    "    bbox_height = annotation_info['bbox'][3]\n",
    "    aspect_ratio = bbox_width/bbox_height\n",
    "    \n",
    "    dataset_info.append([annotation_info['id'], bbox_width, bbox_height, aspect_ratio ,annotation_info['area'],annotation_info['category_id']])\n",
    "    \n",
    "bbox_df = pd.DataFrame(data=dataset_info, columns=['image_id','bbox_width','bbox_height','aspect_ratio','area',\"class\"])\n",
    "print(\"About height of bbox :: \")\n",
    "print(f\" Max = {bbox_df['bbox_height'].max()} \\n Min = {bbox_df['bbox_height'].min()}\")\n",
    "print(f\" Mean = {bbox_df['bbox_height'].mean()} \\n Median = {bbox_df['bbox_height'].median()} \\n Mode = {bbox_df['bbox_height'].mode()[0]}\")\n",
    "\n",
    "print(\"\\nAbout width of bbox :: \")\n",
    "print(f\" Max = {bbox_df['bbox_width'].max()} \\n Min = {bbox_df['bbox_width'].min()}\")\n",
    "print(f\" Mean = {bbox_df['bbox_width'].mean()} \\n Median = {bbox_df['bbox_width'].median()} \\n Mode = {bbox_df['bbox_width'].mode()[0]}\")\n",
    "\n",
    "print(\"\\nAbout aspect_ratio of bbox :: \")\n",
    "print(f\" Max = {bbox_df['aspect_ratio'].max()} \\n Min = {bbox_df['aspect_ratio'].min()}\")\n",
    "print(f\" Mean = {bbox_df['aspect_ratio'].mean()} \\n Median = {bbox_df['aspect_ratio'].median()} \\n Mode = {bbox_df['aspect_ratio'].mode()[0]}\")\n",
    "\n",
    "print(\"\\nAbout area of bbox :: \")\n",
    "print(f\" Max = {bbox_df['area'].max()} \\n Min = {bbox_df['area'].min()}\")\n",
    "print(f\" Mean = {bbox_df['area'].mean()} \\n Median = {bbox_df['area'].median()} \\n Mode = {bbox_df['area'].mode()[0]}\")\n",
    "bbox_df"
   ]
  },
  {
   "cell_type": "code",
   "execution_count": null,
   "id": "cc5d8c4c",
   "metadata": {},
   "outputs": [],
   "source": [
    "plt.figure()\n",
    "bbox_df.hist(column='bbox_height', bins=100, grid=True, figsize=(12,8), color='#69bf69', rwidth=0.6)\n",
    "plt.xlabel(\"height of bbox\", fontsize=15)\n",
    "plt.ylabel(\"annotation count\", fontsize=15)\n",
    "\n",
    "plt.figure()\n",
    "bbox_df.hist(column='bbox_width', bins=100, grid=True, figsize=(12,8), color='#69bf69', rwidth=0.6)\n",
    "plt.xlabel(\"width of bbox\", fontsize=15)\n",
    "plt.ylabel(\"annotation count\", fontsize=15)\n",
    "\n",
    "plt.figure()\n",
    "bbox_df.hist(column='aspect_ratio', bins=100, grid=True, figsize=(12,8), color='#69bf69', rwidth=0.6)\n",
    "plt.xlabel(\"aspect_ratio of bbox\", fontsize=15)\n",
    "plt.ylabel(\"annotation count\", fontsize=15)\n",
    "\n",
    "plt.figure()\n",
    "bbox_df.hist(column='area', bins=10, grid=True, figsize=(12,8), color='#69bf69', rwidth=0.6)\n",
    "plt.xlabel(\"area of bbox\", fontsize=15)\n",
    "plt.ylabel(\"annotation count\", fontsize=15)\n",
    "\n"
   ]
  },
  {
   "cell_type": "markdown",
   "id": "06c0537a",
   "metadata": {},
   "source": [
    "### From above, we can see that majority of bbox in the dataset are present in the specific range which represents that the dataset maybe be having the problem of class imbalance.\n",
    "                     \n",
    "\n",
    "| &nbsp;&nbsp;&nbsp;         | minimum &nbsp;&nbsp;&nbsp;   | maximum &nbsp;&nbsp;&nbsp;   |mean &nbsp;&nbsp;&nbsp;   |median &nbsp;&nbsp;&nbsp;   | mode &nbsp;&nbsp;&nbsp;   |\n",
    "| -----------                       | -----------                      | ----------- | ----------- | ----------- |  ----------- |\n",
    "| **bbox_height** &nbsp;&nbsp;&nbsp; | 0.34 &nbsp;&nbsp;&nbsp;  | 640.0 &nbsp;&nbsp;&nbsp; |107.42 &nbsp;&nbsp;&nbsp; |62.34 &nbsp;&nbsp;&nbsp; |480 &nbsp;&nbsp;&nbsp; |\n",
    "| **bbox_width** &nbsp;&nbsp;&nbsp; | 0.23 &nbsp;&nbsp;&nbsp;  | 640.0 &nbsp;&nbsp;&nbsp; |103.9 &nbsp;&nbsp;&nbsp; |54.14 &nbsp;&nbsp;&nbsp; |640.0 &nbsp;&nbsp;&nbsp; |\n",
    "| **aspect_ratio** &nbsp;&nbsp;&nbsp; | 0.02 &nbsp;&nbsp;&nbsp;  | 143.77 &nbsp;&nbsp;&nbsp; |1.21 &nbsp;&nbsp;&nbsp; |0.86 &nbsp;&nbsp;&nbsp; |1.0 &nbsp;&nbsp;&nbsp; |\n",
    "| **area** &nbsp;&nbsp;&nbsp; | 0.541 &nbsp;&nbsp;&nbsp;  | 787151.47 &nbsp;&nbsp;&nbsp; |12025.88 &nbsp;&nbsp;&nbsp; |1697.09 &nbsp;&nbsp;&nbsp; |130.0 &nbsp;&nbsp;&nbsp; |\n",
    "\n",
    "### To get more details about the bbox, it's better to compare them among class.."
   ]
  },
  {
   "cell_type": "markdown",
   "id": "deae320f",
   "metadata": {},
   "source": [
    "# 10. Viewing number of images in each class."
   ]
  },
  {
   "cell_type": "markdown",
   "id": "26f9c2f6",
   "metadata": {},
   "source": [
    "### This will help us to visualize that 80 classes of objects have similar amount of annotated images or not."
   ]
  },
  {
   "cell_type": "code",
   "execution_count": null,
   "id": "9de309e6",
   "metadata": {},
   "outputs": [],
   "source": [
    "# dictionary to store number of bounding box in each class\n",
    "class_wise_bbox = {}\n",
    "\n",
    "# creating map of class_id --> class_name\n",
    "# adding each class in class_wise_bbox dictionary as count 0\n",
    "classes_id_name_map = {}\n",
    "for annotation_info in (annotation['categories']):\n",
    "    category_name = annotation_info['name']\n",
    "    category_id = annotation_info['id']\n",
    "    \n",
    "    class_wise_bbox[category_name] = 0\n",
    "    classes_id_name_map[category_id] = category_name\n",
    "    \n",
    "# now we will count the number of annotations in each class and update it in the class_wise_bbox dictionary.\n",
    "for annotation_info in annotation['annotations']:\n",
    "    class_wise_bbox[classes_id_name_map[annotation_info['category_id']]] += 1\n"
   ]
  },
  {
   "cell_type": "code",
   "execution_count": null,
   "id": "65bf095d",
   "metadata": {},
   "outputs": [],
   "source": [
    "plt.figure(figsize=(20,10))\n",
    "plt.bar(range(len(class_wise_bbox)), class_wise_bbox.values(), align='center')\n",
    "plt.xticks(range(len(class_wise_bbox)), list(class_wise_bbox.keys()),rotation=-90,fontsize=15)\n",
    "plt.xlabel(\"Classes\", fontsize=25)\n",
    "plt.ylabel(\"Number of annotations\", fontsize=25)\n",
    "\n",
    "plt.show()"
   ]
  }
 ],
 "metadata": {
  "kernelspec": {
   "display_name": "Python 3 (ipykernel)",
   "language": "python",
   "name": "python3"
  },
  "language_info": {
   "codemirror_mode": {
    "name": "ipython",
    "version": 3
   },
   "file_extension": ".py",
   "mimetype": "text/x-python",
   "name": "python",
   "nbconvert_exporter": "python",
   "pygments_lexer": "ipython3",
   "version": "3.9.7"
  }
 },
 "nbformat": 4,
 "nbformat_minor": 5
}
