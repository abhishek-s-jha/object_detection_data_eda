{
 "cells": [
  {
   "cell_type": "code",
   "execution_count": null,
   "id": "3b418bdc",
   "metadata": {},
   "outputs": [],
   "source": [
    "import os\n",
    "import cv2\n",
    "import numpy as np\n",
    "import pandas as pd\n",
    "import matplotlib.pyplot as plt\n",
    "from tqdm import tqdm\n",
    "from pprint import pprint\n",
    "\n",
    "from additional_info import sub_dir, json_reader, json_writer"
   ]
  },
  {
   "cell_type": "code",
   "execution_count": null,
   "id": "68dd8f5b",
   "metadata": {},
   "outputs": [],
   "source": [
    "selected_dataset = \"coco\"\n",
    "\n",
    "# to get limit size of sample output \n",
    "output_line_limit = 10"
   ]
  },
  {
   "cell_type": "markdown",
   "id": "a66398fa",
   "metadata": {},
   "source": [
    "# 1. Initializing dataset directory"
   ]
  },
  {
   "cell_type": "code",
   "execution_count": null,
   "id": "2f055962",
   "metadata": {},
   "outputs": [],
   "source": [
    "# directory containing image and annotations of coco dataset\n",
    "image_dir = os.path.join(sub_dir['dir_data'], selected_dataset, \"train2017\")\n",
    "annotation_dir = os.path.join(sub_dir['dir_data'], selected_dataset, \"annotations\")\n",
    "\n",
    "print(f\"Image directory = {image_dir}\")\n",
    "print(f\"Annotation directory = {annotation_dir}\")"
   ]
  },
  {
   "cell_type": "markdown",
   "id": "128e18b1",
   "metadata": {},
   "source": [
    "# 2. Number of files in image and annotation directory [first look]"
   ]
  },
  {
   "cell_type": "code",
   "execution_count": null,
   "id": "416a6619",
   "metadata": {},
   "outputs": [],
   "source": [
    "image_dir_files = os.listdir(image_dir)\n",
    "print(f\"Number of images = \", len(image_dir_files))\n",
    "print(f\"Number of annotation files  = \", len(os.listdir(annotation_dir)))\n",
    "\n",
    "print(\"\\nSome files from image folder and their size :: \")\n",
    "for i,file in enumerate(image_dir_files):\n",
    "    file_size = round((os.path.getsize(os.path.join(image_dir, file)))/1024, ndigits=2)\n",
    "    print(\"\\t{}. File name = {} :: size = {} kb\".format(i+1, file, file_size))\n",
    "    \n",
    "    if i > output_line_limit:\n",
    "        print(\"\\t....................................................\\n\"*3)\n",
    "        file_size = round((os.path.getsize(os.path.join(image_dir, image_dir_files[-1])))/1024, ndigits=2)\n",
    "        print(\"\\t{}. File name = {} :: size = {} kb\".format(len(image_dir_files), image_dir_files[-1], file_size))\n",
    "        break\n",
    "        \n",
    "print(\"\\nFiles from annotation folder :: \")\n",
    "for i,file in enumerate(os.listdir(annotation_dir)):\n",
    "    file_size = round((os.path.getsize(os.path.join(annotation_dir, file)))/1024, ndigits=2)\n",
    "    print(\"\\t{}. File name = {} :: size = {} kb\".format(i+1, file, file_size))"
   ]
  },
  {
   "cell_type": "markdown",
   "id": "d273c2c4",
   "metadata": {},
   "source": [
    "### As we have downloaded train images from the coco dataset for EDA, we only require instances_train2017.json file. So, we will be working with these two things from now on:\n",
    "\n",
    "- **image_dir** = contains 118287 images from coco dataset\n",
    "\n",
    "- **annotation** = contains all the information (which we will read below) from the **instances_train2017.json** [largest file present in annotation folder, **448 MB**]"
   ]
  },
  {
   "cell_type": "code",
   "execution_count": null,
   "id": "7a981f25",
   "metadata": {},
   "outputs": [],
   "source": []
  }
 ],
 "metadata": {
  "kernelspec": {
   "display_name": "Python 3 (ipykernel)",
   "language": "python",
   "name": "python3"
  },
  "language_info": {
   "codemirror_mode": {
    "name": "ipython",
    "version": 3
   },
   "file_extension": ".py",
   "mimetype": "text/x-python",
   "name": "python",
   "nbconvert_exporter": "python",
   "pygments_lexer": "ipython3",
   "version": "3.9.7"
  }
 },
 "nbformat": 4,
 "nbformat_minor": 5
}
