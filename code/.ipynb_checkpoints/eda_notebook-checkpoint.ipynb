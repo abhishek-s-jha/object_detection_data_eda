{
 "cells": [
  {
   "cell_type": "code",
   "execution_count": null,
   "id": "b0350369",
   "metadata": {},
   "outputs": [],
   "source": [
    "import os\n",
    "import cv2\n",
    "import numpy as np\n",
    "import pandas as pd\n",
    "import matplotlib.pyplot as plt\n",
    "from tqdm import tqdm\n",
    "from pprint import pprint\n",
    "\n",
    "from additional_info import sub_dir, json_reader, json_writer"
   ]
  },
  {
   "cell_type": "code",
   "execution_count": null,
   "id": "3ac23f85",
   "metadata": {},
   "outputs": [],
   "source": [
    "selected_dataset = \"coco\"\n",
    "\n",
    "# to get limit size of sample output \n",
    "output_line_limit = 10"
   ]
  },
  {
   "cell_type": "markdown",
   "id": "a409f6b8",
   "metadata": {},
   "source": [
    "# 1. Initializing dataset directory"
   ]
  },
  {
   "cell_type": "code",
   "execution_count": null,
   "id": "b078d23c",
   "metadata": {},
   "outputs": [],
   "source": [
    "# directory containing image and annotations of coco dataset\n",
    "image_dir = os.path.join(sub_dir['dir_data'], selected_dataset, \"train2017\")\n",
    "annotation_dir = os.path.join(sub_dir['dir_data'], selected_dataset, \"annotations\")\n",
    "\n",
    "print(f\"Image directory = {image_dir}\")\n",
    "print(f\"Annotation directory = {annotation_dir}\")"
   ]
  }
 ],
 "metadata": {
  "kernelspec": {
   "display_name": "Python 3 (ipykernel)",
   "language": "python",
   "name": "python3"
  },
  "language_info": {
   "codemirror_mode": {
    "name": "ipython",
    "version": 3
   },
   "file_extension": ".py",
   "mimetype": "text/x-python",
   "name": "python",
   "nbconvert_exporter": "python",
   "pygments_lexer": "ipython3",
   "version": "3.9.7"
  }
 },
 "nbformat": 4,
 "nbformat_minor": 5
}
