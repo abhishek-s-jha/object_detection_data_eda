{
 "cells": [
  {
   "cell_type": "code",
   "execution_count": null,
   "id": "d9be65d1",
   "metadata": {},
   "outputs": [],
   "source": [
    "import os\n",
    "import cv2\n",
    "import numpy as np\n",
    "import pandas as pd\n",
    "import matplotlib.pyplot as plt\n",
    "from tqdm import tqdm\n",
    "from pprint import pprint\n",
    "\n",
    "from additional_info import sub_dir, json_reader, json_writer"
   ]
  },
  {
   "cell_type": "code",
   "execution_count": null,
   "id": "b9c4ff47",
   "metadata": {},
   "outputs": [],
   "source": [
    "selected_dataset = \"coco\"\n",
    "\n",
    "# to get limit size of sample output \n",
    "output_line_limit = 10"
   ]
  },
  {
   "cell_type": "markdown",
   "id": "da91c5de",
   "metadata": {},
   "source": [
    "# 1. Initializing dataset directory"
   ]
  },
  {
   "cell_type": "code",
   "execution_count": null,
   "id": "2624f581",
   "metadata": {},
   "outputs": [],
   "source": [
    "# directory containing image and annotations of coco dataset\n",
    "image_dir = os.path.join(sub_dir['dir_data'], selected_dataset, \"train2017\")\n",
    "annotation_dir = os.path.join(sub_dir['dir_data'], selected_dataset, \"annotations\")\n",
    "\n",
    "print(f\"Image directory = {image_dir}\")\n",
    "print(f\"Annotation directory = {annotation_dir}\")"
   ]
  },
  {
   "cell_type": "markdown",
   "id": "9efa2eeb",
   "metadata": {},
   "source": [
    "# 2. Number of files in image and annotation directory [first look]"
   ]
  },
  {
   "cell_type": "code",
   "execution_count": null,
   "id": "e18a313d",
   "metadata": {},
   "outputs": [],
   "source": [
    "image_dir_files = os.listdir(image_dir)\n",
    "print(f\"Number of images = \", len(image_dir_files))\n",
    "print(f\"Number of annotation files  = \", len(os.listdir(annotation_dir)))\n",
    "\n",
    "print(\"\\nSome files from image folder and their size :: \")\n",
    "for i,file in enumerate(image_dir_files):\n",
    "    file_size = round((os.path.getsize(os.path.join(image_dir, file)))/1024, ndigits=2)\n",
    "    print(\"\\t{}. File name = {} :: size = {} kb\".format(i+1, file, file_size))\n",
    "    \n",
    "    if i > output_line_limit:\n",
    "        print(\"\\t....................................................\\n\"*3)\n",
    "        file_size = round((os.path.getsize(os.path.join(image_dir, image_dir_files[-1])))/1024, ndigits=2)\n",
    "        print(\"\\t{}. File name = {} :: size = {} kb\".format(len(image_dir_files), image_dir_files[-1], file_size))\n",
    "        break\n",
    "        \n",
    "print(\"\\nFiles from annotation folder :: \")\n",
    "for i,file in enumerate(os.listdir(annotation_dir)):\n",
    "    file_size = round((os.path.getsize(os.path.join(annotation_dir, file)))/1024, ndigits=2)\n",
    "    print(\"\\t{}. File name = {} :: size = {} kb\".format(i+1, file, file_size))"
   ]
  },
  {
   "cell_type": "markdown",
   "id": "08aea3b5",
   "metadata": {},
   "source": [
    "### As we have downloaded train images from the coco dataset for EDA, we only require instances_train2017.json file. So, we will be working with these two things from now on:\n",
    "\n",
    "- **image_dir** = contains 118287 images from coco dataset\n",
    "\n",
    "- **annotation** = contains all the information (which we will read below) from the **instances_train2017.json** [largest file present in annotation folder, **448 MB**]"
   ]
  },
  {
   "cell_type": "markdown",
   "id": "66039a3d",
   "metadata": {},
   "source": [
    "# 3. Viewing annotation file [\"instances_train2017.json\"]"
   ]
  },
  {
   "cell_type": "code",
   "execution_count": null,
   "id": "16b2d8c5",
   "metadata": {},
   "outputs": [],
   "source": [
    "# reading contents of \"instances_train2017.json\" into annotation\n",
    "annotation = json_reader(os.path.join(annotation_dir,\"instances_train2017.json\"))"
   ]
  },
  {
   "cell_type": "code",
   "execution_count": null,
   "id": "6c693ce3",
   "metadata": {},
   "outputs": [],
   "source": [
    "# As annotation is a json file i.e. a dictionary structure, lets take a look at keys present in it.\n",
    "print(\"Keys present in annotaion = \", annotation.keys())\n",
    "\n",
    "# Lets see the number of entries in each key and first value of each key, for better understanding.\n",
    "for i,key in enumerate(annotation.keys()):\n",
    "    print(f\"\\n{i+1}. Key = {key}\\n\\t Number of entries :: {len(annotation[key])}\")\n",
    "    if type(annotation[key]) == list:\n",
    "        print(\"\\t First value :: \")\n",
    "        pprint(annotation[key][0],indent=25)\n",
    "    else:\n",
    "        print(\"\\t First value :: \")\n",
    "        pprint(annotation[key],indent=25)"
   ]
  },
  {
   "cell_type": "markdown",
   "id": "27c45b88",
   "metadata": {},
   "source": [
    "### Annotation consists of five sections of information that provide information for the entire dataset. [source: https://cocodataset.org/#format-data]\n",
    "- **info**     – general information about the dataset.\n",
    "\n",
    "- **licenses** – license information for the images in the dataset.\n",
    "\n",
    "- **images**   – a list of images in the dataset.\n",
    "\n",
    "- **annotations** – a list of annotations (including bounding boxes) that are present in all images in the dataset.\n",
    "\n",
    "- **categories**  – a list of label categories.\n",
    "\n",
    "    ### Structure of images in annotations[\"images\"]\n",
    "    - **id**         – A unique identifier for the image. The id field maps to the id field in the annotations array (where bounding box information is stored).\n",
    "\n",
    "    - **license**    – Maps to the license array.\n",
    "\n",
    "    - **coco_url**   – The location of the image.\n",
    "\n",
    "    - **flickr_url** – The location of the image on Flickr.\n",
    "\n",
    "    - **width**      – The width of the image.\n",
    "\n",
    "    - **height**     – The height of the image.\n",
    "\n",
    "    - **file_name**  – The image file name. In this example, file_name and id match, but this is not a requirement for COCO datasets.\n",
    "\n",
    "    - **date_captured** – the date and time the image was captured.\n",
    "    \n",
    "    ### Structure of annotations in annotations[\"annotations\"]\n",
    "    - **id** – The identifier for the annotation.\n",
    "\n",
    "    - **image_id** –  Corresponds to the image id in the images array.\n",
    "\n",
    "    - **category_id** –  The identifier for the label that identifies the object within a bounding box. It maps to the id field of the categories array.\n",
    "\n",
    "    - **iscrowd** – Specifies if the image contains a crowd of objects.\n",
    "\n",
    "    - **segmentation** – Segmentation information for objects on an image.\n",
    "\n",
    "    - **area** – The area of the annotation.\n",
    "\n",
    "    - **bbox** –  Contains the coordinates, in pixels, of a bounding box around an object on the image. **[top left x, top left y,width,height]**\n",
    "    ### Structure of categories in annotation[\"categories\"]\n",
    "    - **supercategory** – The parent category for a label.\n",
    "\n",
    "    - **id** – The label identifier. The id field maps to the category_id field in an annotation object.\n",
    "\n",
    "    - **name** – the label name."
   ]
  },
  {
   "cell_type": "markdown",
   "id": "683c2ba5",
   "metadata": {},
   "source": [
    "# 4. Overview of annotations"
   ]
  },
  {
   "cell_type": "code",
   "execution_count": null,
   "id": "f80394e6",
   "metadata": {},
   "outputs": [],
   "source": [
    "# After first look at the annotation file, we got the following information about the coco dataset\n",
    "print(\"Date created :: \", annotation['info']['date_created'])\n",
    "print(\"Contributor  :: \", annotation['info']['contributor'])\n",
    "print(\"URL          :: \", annotation['info']['url'])\n",
    "print(\"Image count  :: \", len(annotation['images']), end=\"\\t\\t (This is equal to the number of images present in directory\\ \n",
    "      [check section 2])\\n\")\n",
    "print(\"Annotation count :: \", len(annotation['annotations']))\n",
    "print(\"Number of categories (classes) :: \", len(annotation['categories']))\n",
    "\n",
    "\n",
    "\n",
    "# Retrieving name of parent categories and classes from annotation file\n",
    "parent_category = {}\n",
    "classes = {}\n",
    "for annotation_info in tqdm(annotation['categories']):\n",
    "    parent_category[annotation_info['supercategory']] = 1\n",
    "    classes[annotation_info['name']] = 1\n",
    "\n",
    "parent_category = list(parent_category.keys())\n",
    "classes = list(classes.keys())\n",
    "\n",
    "\n",
    "count=1\n",
    "print(\"Name of categories :: \")\n",
    "for index in range(0,len(classes),5):\n",
    "    print(f'\\t{count}. {classes[index]:15}\\t{count+1}. \n",
    "          {classes[index+1]:15}\\t{count+2}. {classes[index+2]:15}\\t{count+3}. \n",
    "          {classes[index+3]:15}\\t{count+4}. {classes[index+4]:15}')\n",
    "    count+=5\n",
    "\n",
    "count=1\n",
    "print(\"\\nNumber of parent categories :: \", len(parent_category))\n",
    "print(\"Name of parent categories :: \")\n",
    "for index in range(0,len(parent_category), 3):\n",
    "    print(f'\\t{count}. {parent_category[index]:5}\\t{count+1}. \n",
    "          {parent_category[index+1]:5}\\t{count+2}. \n",
    "          {parent_category[index+2]:5}')\n",
    "    count+=3\n"
   ]
  },
  {
   "cell_type": "markdown",
   "id": "4649f19b",
   "metadata": {},
   "source": [
    "### As we can see, we have 1lakh+ images which have 8.6lakh annotations which is spread over 80 different classes.\n",
    "\n",
    "### It means that an image have multiple annotations (same/different class)."
   ]
  },
  {
   "cell_type": "markdown",
   "id": "3d63ad59",
   "metadata": {},
   "source": [
    "# 5. Relation in the | images | annotations | categories | in the annotation file."
   ]
  },
  {
   "cell_type": "markdown",
   "id": "c76e199f",
   "metadata": {},
   "source": [
    "\n",
    "| images  &nbsp;&nbsp;&nbsp;         | annotations &nbsp;&nbsp;&nbsp;   | categories  |\n",
    "| -----------                       | -----------                      | ----------- |\n",
    "| **id** &nbsp;&nbsp;&nbsp;         | **image_id** &nbsp;&nbsp;&nbsp;  | name        |\n",
    "| license  &nbsp;&nbsp;&nbsp;       |  id &nbsp;&nbsp;&nbsp;           | supercategory       |\n",
    "| coco_url &nbsp;&nbsp;&nbsp;       | ***category_id*** &nbsp;&nbsp;&nbsp;   | ***id***      |\n",
    "| date_captured &nbsp;&nbsp;&nbsp;     | iscrowd  &nbsp;&nbsp;&nbsp;      | -----       |\n",
    "| flickr_url &nbsp;&nbsp;&nbsp;     | segmentation &nbsp;&nbsp;&nbsp;  | -----       |\n",
    "| width  &nbsp;&nbsp;&nbsp;         | area  &nbsp;&nbsp;&nbsp;         | -----       |\n",
    "| height &nbsp;&nbsp;&nbsp;         | bbox &nbsp;&nbsp;&nbsp;          | -----       |\n",
    "| file_name  &nbsp;&nbsp;&nbsp;     | -----  &nbsp;&nbsp;&nbsp;        | -----       |\n",
    "\n",
    "\n",
    "### Here we can see that:\n",
    "- **id** in images is mapped to **image_id** in annotations.\n",
    "- ***id*** in categories is mapped to ***category_id*** in annotations."
   ]
  },
  {
   "cell_type": "code",
   "execution_count": null,
   "id": "f283754e",
   "metadata": {},
   "outputs": [],
   "source": []
  }
 ],
 "metadata": {
  "kernelspec": {
   "display_name": "Python 3 (ipykernel)",
   "language": "python",
   "name": "python3"
  },
  "language_info": {
   "codemirror_mode": {
    "name": "ipython",
    "version": 3
   },
   "file_extension": ".py",
   "mimetype": "text/x-python",
   "name": "python",
   "nbconvert_exporter": "python",
   "pygments_lexer": "ipython3",
   "version": "3.9.7"
  }
 },
 "nbformat": 4,
 "nbformat_minor": 5
}
