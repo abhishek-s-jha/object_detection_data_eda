{
 "cells": [
  {
   "cell_type": "code",
   "execution_count": 3,
   "id": "1fdbd300",
   "metadata": {},
   "outputs": [],
   "source": [
    "import tarfile\n",
    "from zipfile import ZipFile\n",
    "from tqdm import tqdm"
   ]
  },
  {
   "cell_type": "code",
   "execution_count": 2,
   "id": "a990d29a",
   "metadata": {},
   "outputs": [
    {
     "name": "stdout",
     "output_type": "stream",
     "text": [
      "File Name                                             Modified             Size\n",
      "annotations/instances_train2017.json           2017-09-01 19:02:24    469785474\n",
      "annotations/instances_val2017.json             2017-09-01 19:02:32     19987840\n",
      "annotations/captions_train2017.json            2017-09-01 19:04:56     91865115\n",
      "annotations/captions_val2017.json              2017-09-01 19:04:58      3872473\n",
      "annotations/person_keypoints_train2017.json    2017-09-01 19:04:32    238884731\n",
      "annotations/person_keypoints_val2017.json      2017-09-01 19:04:38     10020657\n"
     ]
    }
   ],
   "source": [
    "# specifying the zip file name\n",
    "file_name = \"E:/1_python_project/eda_odd/data/coco/annotations_trainval2017.zip\"\n",
    "  \n",
    "# opening the zip file in READ mode\n",
    "with ZipFile(file_name, 'r') as fp:\n",
    "    # printing all the contents of the zip file\n",
    "    fp.printdir()\n",
    "  \n",
    "#     # extracting all the files\n",
    "#     print('Extracting all the files now...')\n",
    "#     zip.extractall()\n",
    "#     print('Done!')"
   ]
  },
  {
   "cell_type": "code",
   "execution_count": 7,
   "id": "203dec59",
   "metadata": {},
   "outputs": [
    {
     "name": "stdout",
     "output_type": "stream",
     "text": [
      "File Name                                             Modified             Size\n",
      "annotations/instances_train2017.json           2017-09-01 19:02:24    469785474\n",
      "annotations/instances_val2017.json             2017-09-01 19:02:32     19987840\n",
      "annotations/captions_train2017.json            2017-09-01 19:04:56     91865115\n",
      "annotations/captions_val2017.json              2017-09-01 19:04:58      3872473\n",
      "annotations/person_keypoints_train2017.json    2017-09-01 19:04:32    238884731\n",
      "annotations/person_keypoints_val2017.json      2017-09-01 19:04:38     10020657\n"
     ]
    },
    {
     "data": {
      "text/plain": [
       "NoneType"
      ]
     },
     "execution_count": 7,
     "metadata": {},
     "output_type": "execute_result"
    }
   ],
   "source": [
    "type(fp.printdir())"
   ]
  },
  {
   "cell_type": "code",
   "execution_count": 10,
   "id": "7aaa8f18",
   "metadata": {},
   "outputs": [
    {
     "data": {
      "text/plain": [
       "6"
      ]
     },
     "execution_count": 10,
     "metadata": {},
     "output_type": "execute_result"
    }
   ],
   "source": [
    "len(fp.filelist)"
   ]
  },
  {
   "cell_type": "code",
   "execution_count": 11,
   "id": "dfbf0509",
   "metadata": {},
   "outputs": [],
   "source": [
    "class Person:\n",
    "  def __init__(self, name, age):\n",
    "    self.name = name\n",
    "    self.age = age\n",
    "\n",
    "  def myfunc(self):\n",
    "    print(\"Hello my name is \" + self.name)"
   ]
  },
  {
   "cell_type": "code",
   "execution_count": 12,
   "id": "f7f27245",
   "metadata": {},
   "outputs": [
    {
     "name": "stdout",
     "output_type": "stream",
     "text": [
      "Hello my name is John\n"
     ]
    }
   ],
   "source": [
    "p1 = Person(\"John\", 36)\n",
    "p1.myfunc()"
   ]
  },
  {
   "cell_type": "code",
   "execution_count": 13,
   "id": "d5a63176",
   "metadata": {},
   "outputs": [
    {
     "data": {
      "text/plain": [
       "<__main__.Person at 0x1694ddaeb20>"
      ]
     },
     "execution_count": 13,
     "metadata": {},
     "output_type": "execute_result"
    }
   ],
   "source": [
    "p1"
   ]
  },
  {
   "cell_type": "code",
   "execution_count": 4,
   "id": "e7a0c752",
   "metadata": {},
   "outputs": [
    {
     "name": "stdout",
     "output_type": "stream",
     "text": [
      "number of files inside zip =  6\n",
      "File information :: \n",
      "1. annotations/instances_train2017.json 458774.88 kb\n",
      "2. annotations/instances_val2017.json 19519.38 kb\n",
      "3. annotations/captions_train2017.json 89712.03 kb\n",
      "..........\n",
      "..........\n",
      "..........\n",
      "..........\n",
      "..........\n",
      "6. annotations/person_keypoints_val2017.json 9785.8 kb\n"
     ]
    },
    {
     "name": "stderr",
     "output_type": "stream",
     "text": [
      "100%|████████████████████████████████████████████████████████████████████████████████████| 6/6 [00:04<00:00,  1.33it/s]\n"
     ]
    }
   ],
   "source": [
    "# opening the zip file in READ mode\n",
    "with ZipFile(file_name, 'r') as fp:\n",
    "    # printing all the contents of the zip file\n",
    "    print(\"number of files inside zip = \",len(fp.filelist))\n",
    "    print(\"File information :: \")\n",
    "    print_count = 0\n",
    "    for index, file in enumerate(fp.filelist):\n",
    "        if print_count < 3:\n",
    "            print(\"{}. {} {} kb\".format(index+1,file.filename, round((file.file_size/1024),ndigits=2)))\n",
    "            print_count+=1\n",
    "        else:\n",
    "            print(\"..........\\n\"*5, end='')\n",
    "            print(\"{}. {} {} kb\".format(len(fp.filelist),fp.filelist[-1].filename, round((fp.filelist[-1].file_size/1024),ndigits=2)))\n",
    "            break\n",
    "            \n",
    "    for file in tqdm(fp.filelist):\n",
    "        fp.extract(file, path=\"E:/1_python_project/eda_odd/data/coco/\")\n",
    "        \n",
    "#     # extracting all the files\n",
    "#     print('Extracting all the files now...')\n",
    "#     fp.extractall(path=\"E:/1_python_project/eda_odd/data/coco/\")\n",
    "#     print('Done!')"
   ]
  },
  {
   "cell_type": "code",
   "execution_count": 43,
   "id": "91cc2900",
   "metadata": {},
   "outputs": [
    {
     "data": {
      "text/plain": [
       "True"
      ]
     },
     "execution_count": 43,
     "metadata": {},
     "output_type": "execute_result"
    }
   ],
   "source": [
    "fp.infolist() == fp.filelist"
   ]
  },
  {
   "cell_type": "code",
   "execution_count": 36,
   "id": "fc0e7a60",
   "metadata": {},
   "outputs": [
    {
     "data": {
      "text/plain": [
       "11"
      ]
     },
     "execution_count": 36,
     "metadata": {},
     "output_type": "execute_result"
    }
   ],
   "source": [
    "fp.filelist[0].filename.find(\"/\")"
   ]
  },
  {
   "cell_type": "code",
   "execution_count": 40,
   "id": "116acd9d",
   "metadata": {},
   "outputs": [],
   "source": [
    "from clint.textui import progress"
   ]
  },
  {
   "cell_type": "code",
   "execution_count": 46,
   "id": "61b3a6bc",
   "metadata": {},
   "outputs": [
    {
     "data": {
      "text/plain": [
       "<module 'clint.textui.progress' from 'C:\\\\Users\\\\Abhishek\\\\anaconda3\\\\envs\\\\python_project\\\\lib\\\\site-packages\\\\clint\\\\textui\\\\progress.py'>"
      ]
     },
     "execution_count": 46,
     "metadata": {},
     "output_type": "execute_result"
    }
   ],
   "source": [
    "from clint.textui import progress\n",
    "# for chunk in progress.bar(data.iter_content(chunk_size=1024),\n",
    "#                           expected_size=(total_length / 1024) + 1):"
   ]
  },
  {
   "cell_type": "code",
   "execution_count": 6,
   "id": "2b46479e",
   "metadata": {},
   "outputs": [
    {
     "data": {
      "text/plain": [
       "'E:/1_python_project/eda_odd/data/coco/annotations_trainval2017.zip'"
      ]
     },
     "execution_count": 6,
     "metadata": {},
     "output_type": "execute_result"
    }
   ],
   "source": [
    "file_name"
   ]
  },
  {
   "cell_type": "code",
   "execution_count": 12,
   "id": "e272b0e0",
   "metadata": {},
   "outputs": [
    {
     "data": {
      "text/plain": [
       "'annotations_trainval2017.zip'"
      ]
     },
     "execution_count": 12,
     "metadata": {},
     "output_type": "execute_result"
    }
   ],
   "source": [
    "fp.filename.split(\"/\")[-1]"
   ]
  },
  {
   "cell_type": "code",
   "execution_count": 18,
   "id": "40b49c81",
   "metadata": {},
   "outputs": [],
   "source": [
    "x = 'E:/1_python_project\\eda_odd\\data\\coco\\annotations_trainval2017.zip'"
   ]
  },
  {
   "cell_type": "code",
   "execution_count": 17,
   "id": "26c0a013",
   "metadata": {},
   "outputs": [
    {
     "data": {
      "text/plain": [
       "['E:', '1_python_project\\\\eda_odd\\\\data\\\\coco\\x07nnotations_trainval2017.zip']"
      ]
     },
     "execution_count": 17,
     "metadata": {},
     "output_type": "execute_result"
    }
   ],
   "source": [
    "x.split(\"/\")"
   ]
  },
  {
   "cell_type": "code",
   "execution_count": 19,
   "id": "5e06c1b8",
   "metadata": {},
   "outputs": [
    {
     "data": {
      "text/plain": [
       "'E:/1_python_project\\\\eda_odd\\\\data\\\\coco\\x07nnotations_trainval2017.zip'"
      ]
     },
     "execution_count": 19,
     "metadata": {},
     "output_type": "execute_result"
    }
   ],
   "source": [
    "x"
   ]
  },
  {
   "cell_type": "code",
   "execution_count": null,
   "id": "d2607951",
   "metadata": {},
   "outputs": [],
   "source": []
  }
 ],
 "metadata": {
  "kernelspec": {
   "display_name": "Python 3 (ipykernel)",
   "language": "python",
   "name": "python3"
  },
  "language_info": {
   "codemirror_mode": {
    "name": "ipython",
    "version": 3
   },
   "file_extension": ".py",
   "mimetype": "text/x-python",
   "name": "python",
   "nbconvert_exporter": "python",
   "pygments_lexer": "ipython3",
   "version": "3.8.12"
  }
 },
 "nbformat": 4,
 "nbformat_minor": 5
}
