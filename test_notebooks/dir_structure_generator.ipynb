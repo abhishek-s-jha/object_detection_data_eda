{
 "cells": [
  {
   "cell_type": "code",
   "execution_count": 23,
   "id": "34ca00a0",
   "metadata": {},
   "outputs": [],
   "source": [
    "import os\n",
    "from datetime import datetime"
   ]
  },
  {
   "cell_type": "code",
   "execution_count": 26,
   "id": "c820db92",
   "metadata": {},
   "outputs": [],
   "source": [
    "log_structure = \"{0} -> [{1}] -> {2}\""
   ]
  },
  {
   "cell_type": "code",
   "execution_count": 24,
   "id": "6d93752c",
   "metadata": {},
   "outputs": [],
   "source": [
    "base = \"E:/1_python_project\"\n",
    "\n",
    "\n",
    "main_dir = os.path.join(base, 'eda_odd')\n",
    "sub_dir = {\n",
    "     \"dir_test\": os.path.join(main_dir, 'test'),\n",
    "     \"dir_data\": os.path.join(main_dir, 'data'),\n",
    "     \"dir_code\": os.path.join(main_dir, 'code'),\n",
    "     \"dir_logs\": os.path.join(main_dir, 'logs'),\n",
    "     \"dir_docs\": os.path.join(main_dir, 'docs'),\n",
    "     \"dir_docs_research\": os.path.join(main_dir, 'docs', 'research_paper')\n",
    "}"
   ]
  },
  {
   "cell_type": "code",
   "execution_count": 32,
   "id": "9cde168e",
   "metadata": {},
   "outputs": [],
   "source": [
    "def dir_structure_generator(main_dir):\n",
    "    function_name = dir_structure_generator.__name__\n",
    "    print(log_structure.format(datetime.now().strftime(\"%d-%m-%Y %H:%M:%S.%f\"), function_name, \"start\"))\n",
    "    \n",
    "    if not os.path.exists(main_dir):\n",
    "        os.mkdir(main_dir)\n",
    "        print(log_structure.format(datetime.now().strftime(\"%d-%m-%Y %H:%M:%S.%f\"), \n",
    "                                   function_name,\n",
    "                                   \"main directory created\"))\n",
    "        for key in sub_dir:\n",
    "            os.mkdir(sub_dir[key])\n",
    "            print(log_structure.format(datetime.now().strftime(\"%d-%m-%Y %H:%M:%S.%f\"), \n",
    "                                       function_name,\n",
    "                                       \"sub directory {} created\".format(key)))\n",
    "        \n",
    "    else:\n",
    "        print(log_structure.format(datetime.now().strftime(\"%d-%m-%Y %H:%M:%S.%f\"), \n",
    "                                   function_name,\n",
    "                                   \"main directory present\"))          \n",
    "        for key in sub_dir:\n",
    "            if not os.path.exists(sub_dir[key]):\n",
    "                os.mkdir(sub_dir[key])\n",
    "                print(log_structure.format(datetime.now().strftime(\"%d-%m-%Y %H:%M:%S.%f\"), \n",
    "                                           function_name,\n",
    "                                           \"sub directory {} created\".format(key)))\n",
    "    print(log_structure.format(datetime.now().strftime(\"%d-%m-%Y %H:%M:%S.%f\"), function_name, \"stop\"))"
   ]
  },
  {
   "cell_type": "code",
   "execution_count": 33,
   "id": "b721e2fb",
   "metadata": {},
   "outputs": [
    {
     "name": "stdout",
     "output_type": "stream",
     "text": [
      "24-11-2021 22:27:15.791380 -> [dir_structure_generator] -> start\n",
      "24-11-2021 22:27:15.792378 -> [dir_structure_generator] -> main directory present\n",
      "24-11-2021 22:27:15.792378 -> [dir_structure_generator] -> sub directory dir_test created\n",
      "24-11-2021 22:27:15.793376 -> [dir_structure_generator] -> sub directory dir_data created\n",
      "24-11-2021 22:27:15.794373 -> [dir_structure_generator] -> sub directory dir_code created\n",
      "24-11-2021 22:27:15.794373 -> [dir_structure_generator] -> sub directory dir_logs created\n",
      "24-11-2021 22:27:15.794373 -> [dir_structure_generator] -> sub directory dir_docs created\n",
      "24-11-2021 22:27:15.795371 -> [dir_structure_generator] -> sub directory dir_docs_research created\n"
     ]
    }
   ],
   "source": [
    "dir_structure_generator(main_dir)      "
   ]
  },
  {
   "cell_type": "code",
   "execution_count": 20,
   "id": "1baf03d1",
   "metadata": {},
   "outputs": [],
   "source": []
  },
  {
   "cell_type": "code",
   "execution_count": null,
   "id": "29720e61",
   "metadata": {},
   "outputs": [],
   "source": [
    "def logs(timestamp, function_name, task, status):\n",
    "    from locations import logs_location, log_data_structure\n",
    "    import os\n",
    "    from time import sleep\n",
    "    from datetime import date\n",
    "    today_date = date.today()\n",
    "    today_date = today_date.strftime(\"%d-%b-%Y\")\n",
    "\n",
    "    log_data = log_data_structure.format(timestamp, function_name, task.upper(), status.upper())\n",
    "    print(log_data)\n",
    "    file = os.path.join(logs_location, today_date + \".log\")\n",
    "    with open(file, 'a+') as fp:\n",
    "        fp.write(log_data + '\\n')"
   ]
  }
 ],
 "metadata": {
  "kernelspec": {
   "display_name": "Python 3 (ipykernel)",
   "language": "python",
   "name": "python3"
  },
  "language_info": {
   "codemirror_mode": {
    "name": "ipython",
    "version": 3
   },
   "file_extension": ".py",
   "mimetype": "text/x-python",
   "name": "python",
   "nbconvert_exporter": "python",
   "pygments_lexer": "ipython3",
   "version": "3.8.12"
  }
 },
 "nbformat": 4,
 "nbformat_minor": 5
}
